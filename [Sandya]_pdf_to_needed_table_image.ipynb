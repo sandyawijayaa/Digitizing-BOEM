{
  "cells": [
    {
      "cell_type": "markdown",
      "id": "44abafe0",
      "metadata": {
        "id": "44abafe0"
      },
      "source": [
        "# General How-To\n",
        "-  there are 6 total pdfs, 4 are easy and 2 are hard & unstructured\n",
        "\n",
        "steps for each pdf\n",
        "1. pdf to images for each page\n",
        "2. how to choose the image page we want?\n",
        "3. from there, how to choose only the part of the page we want?\n",
        "4. (repeat steps for all pdfs -- to make it easier, put all the above 3 steps in functions)\n",
        "\n",
        "ideas\n",
        "- pdftoimage or any other libraries possible?\n",
        "- regex to look for 'test phase'"
      ]
    },
    {
      "cell_type": "markdown",
      "id": "92116699",
      "metadata": {
        "id": "92116699"
      },
      "source": [
        "## Will be using confusion matrix throughout this to quantify goodness of results"
      ]
    },
    {
      "cell_type": "code",
      "execution_count": null,
      "id": "48b07c0c",
      "metadata": {
        "id": "48b07c0c"
      },
      "outputs": [],
      "source": [
        "from sklearn.metrics import classification_report, confusion_matrix"
      ]
    },
    {
      "cell_type": "markdown",
      "id": "878ee63e",
      "metadata": {
        "id": "878ee63e"
      },
      "source": [
        "#### just manually find out which pages have table (any table) & useful table (have test phase tables)"
      ]
    },
    {
      "cell_type": "code",
      "execution_count": null,
      "id": "733209d5",
      "metadata": {
        "id": "733209d5"
      },
      "outputs": [],
      "source": [
        "y_test_table = [0, 0, 0, 0, 0, 0, 0, 0, 0, 0, 1, 1, 1, 1, 1, 1, 1, 1, 0, 0, 0, 0,0, 0, 1, 1, 1, 1, 1, 1, 1, 1, 1, 1, 1, 1, 1, 1, 1, 1, 1, 1]"
      ]
    },
    {
      "cell_type": "code",
      "execution_count": null,
      "id": "42f2f130",
      "metadata": {
        "id": "42f2f130"
      },
      "outputs": [],
      "source": [
        "y_test_useful_table = [0, 0, 0, 0, 0, 0, 0, 0, 0, 0, 0, 1, 1, 1, 0, 1, 1, 1, 0, 0, 0, 0,0, 0, 0, 1, 1, 1, 1, 1, 0, 1, 1, 1, 1, 1, 0, 1, 1, 1, 1, 1]"
      ]
    },
    {
      "cell_type": "markdown",
      "id": "a4d6738e",
      "metadata": {
        "id": "a4d6738e"
      },
      "source": [
        "#### create function to make path for easy function calls later on"
      ]
    },
    {
      "cell_type": "code",
      "execution_count": null,
      "id": "a2e900e0",
      "metadata": {
        "id": "a2e900e0",
        "outputId": "1d8e8626-3783-4de1-c20b-c282348167ae"
      },
      "outputs": [
        {
          "data": {
            "text/plain": [
              "['Data/P00296_B014.pdf-page0.jpg',\n",
              " 'Data/P00296_B014.pdf-page1.jpg',\n",
              " 'Data/P00296_B014.pdf-page2.jpg',\n",
              " 'Data/P00296_B014.pdf-page3.jpg',\n",
              " 'Data/P00296_B014.pdf-page4.jpg',\n",
              " 'Data/P00296_B014.pdf-page5.jpg',\n",
              " 'Data/P00296_B014.pdf-page6.jpg',\n",
              " 'Data/P00296_B014.pdf-page7.jpg',\n",
              " 'Data/P00296_B014.pdf-page8.jpg',\n",
              " 'Data/P00296_B014.pdf-page9.jpg',\n",
              " 'Data/P00296_B014.pdf-page10.jpg',\n",
              " 'Data/P00296_B014.pdf-page11.jpg',\n",
              " 'Data/P00296_B014.pdf-page12.jpg',\n",
              " 'Data/P00296_B014.pdf-page13.jpg',\n",
              " 'Data/P00296_B014.pdf-page14.jpg',\n",
              " 'Data/P00296_B014.pdf-page15.jpg',\n",
              " 'Data/P00296_B014.pdf-page16.jpg',\n",
              " 'Data/P00296_B014.pdf-page17.jpg',\n",
              " 'Data/P00296_B014.pdf-page18.jpg',\n",
              " 'Data/P00296_B014.pdf-page19.jpg',\n",
              " 'Data/P00296_B014.pdf-page20.jpg',\n",
              " 'Data/P00296_B014.pdf-page21.jpg',\n",
              " 'Data/P00296_B014.pdf-page22.jpg',\n",
              " 'Data/P00296_B014.pdf-page23.jpg',\n",
              " 'Data/P00296_B014.pdf-page24.jpg',\n",
              " 'Data/P00296_B014.pdf-page25.jpg',\n",
              " 'Data/P00296_B014.pdf-page26.jpg',\n",
              " 'Data/P00296_B014.pdf-page27.jpg',\n",
              " 'Data/P00296_B014.pdf-page28.jpg',\n",
              " 'Data/P00296_B014.pdf-page29.jpg',\n",
              " 'Data/P00296_B014.pdf-page30.jpg',\n",
              " 'Data/P00296_B014.pdf-page31.jpg',\n",
              " 'Data/P00296_B014.pdf-page32.jpg',\n",
              " 'Data/P00296_B014.pdf-page33.jpg',\n",
              " 'Data/P00296_B014.pdf-page34.jpg',\n",
              " 'Data/P00296_B014.pdf-page35.jpg',\n",
              " 'Data/P00296_B014.pdf-page36.jpg',\n",
              " 'Data/P00296_B014.pdf-page37.jpg',\n",
              " 'Data/P00296_B014.pdf-page38.jpg',\n",
              " 'Data/P00296_B014.pdf-page39.jpg',\n",
              " 'Data/P00296_B014.pdf-page40.jpg',\n",
              " 'Data/P00296_B014.pdf-page41.jpg']"
            ]
          },
          "execution_count": 102,
          "metadata": {},
          "output_type": "execute_result"
        }
      ],
      "source": [
        "def make_path(page):\n",
        "    return 'Data/P00296_B014.pdf-page'+ str(page)+'.jpg'\n",
        "page_numbers = np.arange(42)\n",
        "all_paths = list(map(make_path,page_numbers))\n",
        "all_paths"
      ]
    },
    {
      "cell_type": "markdown",
      "id": "124d6173",
      "metadata": {
        "id": "124d6173"
      },
      "source": [
        "# Code - on 1 pdf (P00296_B014.pdf)"
      ]
    },
    {
      "cell_type": "code",
      "execution_count": null,
      "id": "fbe0cac5",
      "metadata": {
        "id": "fbe0cac5",
        "outputId": "79b2d8c2-26b7-4c2a-95d4-e1bf4baaec55"
      },
      "outputs": [
        {
          "name": "stdout",
          "output_type": "stream",
          "text": [
            "Requirement already satisfied: pdf2image in /Users/sandy/opt/anaconda3/envs/BOEMddiscovery/lib/python3.11/site-packages (1.16.3)\n",
            "Requirement already satisfied: pillow in /Users/sandy/opt/anaconda3/envs/BOEMddiscovery/lib/python3.11/site-packages (from pdf2image) (10.0.1)\n",
            "Note: you may need to restart the kernel to use updated packages.\n"
          ]
        }
      ],
      "source": [
        "pip install pdf2image"
      ]
    },
    {
      "cell_type": "code",
      "execution_count": null,
      "id": "128ae32b",
      "metadata": {
        "id": "128ae32b"
      },
      "outputs": [],
      "source": [
        "import pandas as pd\n",
        "import numpy as np\n",
        "import cv2\n",
        "from pdf2image import convert_from_path"
      ]
    },
    {
      "cell_type": "markdown",
      "id": "6510dbc8",
      "metadata": {
        "id": "6510dbc8"
      },
      "source": [
        "## Step 1) PDF to image for each page"
      ]
    },
    {
      "cell_type": "markdown",
      "id": "386170fa",
      "metadata": {
        "id": "386170fa"
      },
      "source": [
        "input is pdf, output is image for each page"
      ]
    },
    {
      "cell_type": "code",
      "execution_count": null,
      "id": "96c20e46",
      "metadata": {
        "id": "96c20e46"
      },
      "outputs": [],
      "source": [
        "pdf_path = 'Data/P00296_B014.pdf'\n",
        "images = convert_from_path(pdf_path, 500)\n",
        "\n",
        "for i in range(len(images)):\n",
        "      # Save pages as images in the pdf\n",
        "    images[i].save(pdf_path +'-page'+ str(i) +'.jpg', 'JPEG')"
      ]
    },
    {
      "cell_type": "markdown",
      "id": "8bdca762",
      "metadata": {
        "id": "8bdca762"
      },
      "source": [
        "now have all 43 pages of P00296_B014.pdf in 'Data' folder"
      ]
    },
    {
      "cell_type": "markdown",
      "id": "bdfa4ddf",
      "metadata": {
        "id": "bdfa4ddf"
      },
      "source": [
        "## Step 2) Choosing the page we want"
      ]
    },
    {
      "cell_type": "markdown",
      "id": "e9facd4a",
      "metadata": {
        "id": "e9facd4a"
      },
      "source": [
        "### try each method for 1 page that have test phase ('P00296_B014.pdf-page11.jpg') and 1 that dont have ('P00296_B014.pdf-page1.jpg')"
      ]
    },
    {
      "cell_type": "markdown",
      "id": "cc960fa6",
      "metadata": {
        "id": "cc960fa6"
      },
      "source": [
        "what we need to get\n",
        "- tables we need are in: page 12-14 (11-13 in data bc 0 index), 16-18 (15-17), 26-30 (25-29), 32-36 (31-35), 38-42 (37-41)\n",
        "- if get all the tables, should get # of tables: 6 + 6 + 6 + 6 + 6 = 30 tables!\n",
        "\n",
        "general flow\n",
        "- input is image, output is page number we need? (e.g. list: ['P00296_B014.pdf-page11.jpg', 'P00296_B014.pdf-page12.jpg' ....]\n",
        "- trying it for 1 page that have test phase ('P00296_B014.pdf-page11.jpg') and 1 that dont have ('P00296_B014.pdf-page1.jpg')\n",
        "\n",
        "brainstorm how to get\n",
        "- regex to detect using all have the \"TEST PHASE : (FLOW/SHUTIN PERIOD) # (number)\" above the table\n",
        "- Look for specific plots or columns\n",
        "- Display every page in jupyter or sth condensed -> take a quick look\n",
        "    - E.g. display each image in a thumbnail -> user manually pick -> manually pick and it will filter automatically\n",
        "- Pattern matching; e.g. every 2 pages have a table we need, always have 30 tables in each pdf\n",
        "- How much black the image has on it = how much text -> can indicate a lot of info on that page = prob a table?\n",
        "\n",
        "problems i foresee\n",
        "- some tables are split into diff pages (e.g. table for test phase 1 flow period #3 is between page 17 and 18)"
      ]
    },
    {
      "cell_type": "markdown",
      "id": "b9466a17",
      "metadata": {
        "id": "b9466a17"
      },
      "source": [
        "### Method 1: Pytesseract + Regex"
      ]
    },
    {
      "cell_type": "code",
      "execution_count": null,
      "id": "bfd0df0e",
      "metadata": {
        "id": "bfd0df0e"
      },
      "outputs": [],
      "source": [
        "## have test phase ('P00296_B014.pdf-page11.jpg')\n",
        "\n",
        "from PIL import Image\n",
        "import pytesseract\n",
        "\n",
        "# Load the image\n",
        "image = Image.open('Data/P00296_B014.pdf-page11.jpg')  # Replace 'your_image.png' with the path to your image file\n",
        "\n",
        "# Convert the image to grayscale (optional but can help simplify the image)\n",
        "gray_image = image.convert('L')\n",
        "\n",
        "# Define the phrase you want to check for\n",
        "desired_phrase = [\"TEST PHASE\", \"FLOW PERIOD\", \"SHUTIN PERIOD\"]\n",
        "\n",
        "# Iterate through the image pixel by pixel\n",
        "for y in range(image.height - 1):\n",
        "    for x in range(image.width - len(desired_phrase)):\n",
        "        crop = gray_image.crop((x, y, x + len(desired_phrase), y + 1))\n",
        "        crop_text = pytesseract.image_to_string(crop)\n",
        "        if crop_text.strip() == desired_phrase:\n",
        "            print(f\"The image contains the phrase: {desired_phrase}\")\n",
        "            break\n",
        "\n",
        "print(f\"The image does not contain the phrase: {desired_phrase}\")"
      ]
    },
    {
      "cell_type": "code",
      "execution_count": null,
      "id": "c0534b98",
      "metadata": {
        "id": "c0534b98"
      },
      "outputs": [],
      "source": [
        "## dont have ('P00296_B014.pdf-page1.jpg')"
      ]
    },
    {
      "cell_type": "markdown",
      "id": "365149e9",
      "metadata": {
        "id": "365149e9"
      },
      "source": [
        "#### for some reason, this took forever to run"
      ]
    },
    {
      "cell_type": "markdown",
      "id": "bad43c33",
      "metadata": {
        "id": "bad43c33"
      },
      "source": [
        "### Method 2: How much black the image has on it = how much text -> more black = more info = likely a table"
      ]
    },
    {
      "cell_type": "code",
      "execution_count": null,
      "id": "90cbf5e0",
      "metadata": {
        "id": "90cbf5e0"
      },
      "outputs": [],
      "source": [
        "def calculate_black_percentage(image_path):\n",
        "    # Read the image\n",
        "    img = cv2.imread(image_path)\n",
        "\n",
        "    # Convert the image to grayscale\n",
        "    gray = cv2.cvtColor(img, cv2.COLOR_BGR2GRAY)\n",
        "\n",
        "    # Threshold the image to get a binary image with black and white pixels\n",
        "    _, thresholded = cv2.threshold(gray, 1, 255, cv2.THRESH_BINARY)\n",
        "\n",
        "    # Calculate the number of black pixels\n",
        "    num_black_pixels = np.sum(thresholded == 0)\n",
        "\n",
        "    # Calculate the total number of pixels in the image\n",
        "    total_pixels = img.shape[0] * img.shape[1]\n",
        "\n",
        "    # Calculate the percentage of black pixels\n",
        "    percentage_black = (num_black_pixels / total_pixels) * 100\n",
        "    return percentage_black"
      ]
    },
    {
      "cell_type": "code",
      "execution_count": null,
      "id": "bcf8652d",
      "metadata": {
        "id": "bcf8652d"
      },
      "outputs": [],
      "source": [
        "def black_perc_table(image_path):\n",
        "    percentage_black = calculate_black_percentage(image_path)\n",
        "    if percentage_black > 0.5:\n",
        "        return 1\n",
        "    else:\n",
        "        return 0"
      ]
    },
    {
      "cell_type": "markdown",
      "id": "db0e648e",
      "metadata": {
        "id": "db0e648e"
      },
      "source": [
        "have table ('P00296_B014.pdf-page11.jpg')"
      ]
    },
    {
      "cell_type": "code",
      "execution_count": null,
      "id": "3acc9e98",
      "metadata": {
        "id": "3acc9e98",
        "outputId": "14b58a2a-3e59-450d-f56b-0d6cc63558fe"
      },
      "outputs": [
        {
          "name": "stdout",
          "output_type": "stream",
          "text": [
            "The percentage of black in the image is: 0.52%\n"
          ]
        }
      ],
      "source": [
        "black_percentage = calculate_black_percentage('Data/P00296_B014.pdf-page11.jpg')\n",
        "print(f\"The percentage of black in the image is: {black_percentage:.2f}%\")"
      ]
    },
    {
      "cell_type": "markdown",
      "id": "3d10cab3",
      "metadata": {
        "id": "3d10cab3"
      },
      "source": [
        "dont have ('P00296_B014.pdf-page1.jpg')"
      ]
    },
    {
      "cell_type": "code",
      "execution_count": null,
      "id": "c274bee9",
      "metadata": {
        "id": "c274bee9",
        "outputId": "b4b2f807-22ae-498f-ec73-ef447bb38432"
      },
      "outputs": [
        {
          "name": "stdout",
          "output_type": "stream",
          "text": [
            "The percentage of black in the image is: 0.60%\n"
          ]
        }
      ],
      "source": [
        "black_percentage = calculate_black_percentage('Data/P00296_B014.pdf-page1.jpg')\n",
        "print(f\"The percentage of black in the image is: {black_percentage:.2f}%\")"
      ]
    },
    {
      "cell_type": "markdown",
      "id": "e55d3e8c",
      "metadata": {
        "id": "e55d3e8c"
      },
      "source": [
        "#### Conclusion: page that have table has less black % = cannot use this method"
      ]
    },
    {
      "cell_type": "code",
      "execution_count": null,
      "id": "7f34163b",
      "metadata": {
        "id": "7f34163b",
        "outputId": "ad4e21c1-1ab5-4606-f05d-6a64231f7519"
      },
      "outputs": [
        {
          "name": "stdout",
          "output_type": "stream",
          "text": [
            "[[11  5]\n",
            " [18  8]]\n",
            "              precision    recall  f1-score   support\n",
            "\n",
            "           0       0.38      0.69      0.49        16\n",
            "           1       0.62      0.31      0.41        26\n",
            "\n",
            "    accuracy                           0.45        42\n",
            "   macro avg       0.50      0.50      0.45        42\n",
            "weighted avg       0.53      0.45      0.44        42\n",
            "\n"
          ]
        }
      ],
      "source": [
        "y_pred_black = list(map(black_perc_table, all_paths))\n",
        "print(confusion_matrix(y_test_table, y_pred_black))\n",
        "print(classification_report(y_test_table,y_pred_black))"
      ]
    },
    {
      "cell_type": "markdown",
      "id": "b9d5c90b",
      "metadata": {
        "id": "b9d5c90b"
      },
      "source": [
        "### Method 3: Use Canny Edge Detection to detect edges in the image -> well-defined edges = table"
      ]
    },
    {
      "cell_type": "code",
      "execution_count": null,
      "id": "e1536c17",
      "metadata": {
        "id": "e1536c17"
      },
      "outputs": [],
      "source": [
        "def detect_table(image_path):\n",
        "    # Read the image\n",
        "    img = cv2.imread(image_path)\n",
        "\n",
        "    # Convert the image to grayscale\n",
        "    gray = cv2.cvtColor(img, cv2.COLOR_BGR2GRAY)\n",
        "\n",
        "    # Apply GaussianBlur to reduce noise\n",
        "    blurred = cv2.GaussianBlur(gray, (5, 5), 0)\n",
        "\n",
        "    # Apply Canny edge detection\n",
        "    edges = cv2.Canny(blurred, 50, 150)\n",
        "\n",
        "    # Calculate the number of edges detected\n",
        "    num_edges = cv2.countNonZero(edges)\n",
        "\n",
        "    # Define a threshold for edge count to determine if there might be a table\n",
        "    edge_threshold = 5000  # You might need to adjust this threshold based on your images\n",
        "\n",
        "    # Determine if a table is likely present based on edge count\n",
        "    has_table = num_edges > edge_threshold\n",
        "\n",
        "    return has_table\n"
      ]
    },
    {
      "cell_type": "code",
      "execution_count": null,
      "id": "6a2f8b3f",
      "metadata": {
        "id": "6a2f8b3f",
        "outputId": "1dd182ea-c585-473c-d40c-ecd8f174fb70"
      },
      "outputs": [
        {
          "data": {
            "text/plain": [
              "True"
            ]
          },
          "execution_count": 127,
          "metadata": {},
          "output_type": "execute_result"
        }
      ],
      "source": [
        "result = detect_table('Data/P00296_B014.pdf-page11.jpg')\n",
        "result"
      ]
    },
    {
      "cell_type": "code",
      "execution_count": null,
      "id": "02f8202d",
      "metadata": {
        "id": "02f8202d",
        "outputId": "30497f30-42e5-46aa-f9b3-640881356d97"
      },
      "outputs": [
        {
          "data": {
            "text/plain": [
              "True"
            ]
          },
          "execution_count": 128,
          "metadata": {},
          "output_type": "execute_result"
        }
      ],
      "source": [
        "# this image correct output: no table, but it is a plot = may confuse the alg\n",
        "result = detect_table('Data/P00296_B014.pdf-page1.jpg')\n",
        "result"
      ]
    },
    {
      "cell_type": "code",
      "execution_count": null,
      "id": "430e581f",
      "metadata": {
        "id": "430e581f",
        "outputId": "66e1dd0d-b164-4a25-deda-5a5ec0341d9b"
      },
      "outputs": [
        {
          "name": "stdout",
          "output_type": "stream",
          "text": [
            "[[ 0 16]\n",
            " [ 0 26]]\n",
            "              precision    recall  f1-score   support\n",
            "\n",
            "           0       0.00      0.00      0.00        16\n",
            "           1       0.62      1.00      0.76        26\n",
            "\n",
            "    accuracy                           0.62        42\n",
            "   macro avg       0.31      0.50      0.38        42\n",
            "weighted avg       0.38      0.62      0.47        42\n",
            "\n"
          ]
        },
        {
          "name": "stderr",
          "output_type": "stream",
          "text": [
            "/Users/sandy/opt/anaconda3/envs/BOEMddiscovery/lib/python3.11/site-packages/sklearn/metrics/_classification.py:1469: UndefinedMetricWarning: Precision and F-score are ill-defined and being set to 0.0 in labels with no predicted samples. Use `zero_division` parameter to control this behavior.\n",
            "  _warn_prf(average, modifier, msg_start, len(result))\n",
            "/Users/sandy/opt/anaconda3/envs/BOEMddiscovery/lib/python3.11/site-packages/sklearn/metrics/_classification.py:1469: UndefinedMetricWarning: Precision and F-score are ill-defined and being set to 0.0 in labels with no predicted samples. Use `zero_division` parameter to control this behavior.\n",
            "  _warn_prf(average, modifier, msg_start, len(result))\n",
            "/Users/sandy/opt/anaconda3/envs/BOEMddiscovery/lib/python3.11/site-packages/sklearn/metrics/_classification.py:1469: UndefinedMetricWarning: Precision and F-score are ill-defined and being set to 0.0 in labels with no predicted samples. Use `zero_division` parameter to control this behavior.\n",
            "  _warn_prf(average, modifier, msg_start, len(result))\n"
          ]
        }
      ],
      "source": [
        "y_pred_canny = list(map(detect_table, all_paths))\n",
        "print(confusion_matrix(y_test_table, y_pred_canny))\n",
        "print(classification_report(y_test_table,y_pred_canny))"
      ]
    },
    {
      "cell_type": "markdown",
      "id": "8de4187c",
      "metadata": {
        "id": "8de4187c"
      },
      "source": [
        "### Method 4: Pattern matching -- e.g. every 2 pages have a table we need, always have 30 tables in each pdf"
      ]
    },
    {
      "cell_type": "markdown",
      "id": "cb98801c",
      "metadata": {
        "id": "cb98801c"
      },
      "source": [
        "tables we need are in: page 12-14 (11-13 in data bc 0 index), 16-18 (15-17), 26-30 (25-29), 32-36 (31-35), 38-42 (37-41)\n",
        "if get all the tables, should get # of tables: 6 + 6 + 6 + 6 + 6 = 30 tables!"
      ]
    },
    {
      "cell_type": "code",
      "execution_count": null,
      "id": "4717a056",
      "metadata": {
        "id": "4717a056"
      },
      "outputs": [],
      "source": [
        "# find where first table appears -> page11\n",
        "\n",
        "# from there, have 6 tables in each set (in case of pg 11, these 6 tables spread over pg 11 12 13)\n",
        "\n",
        "# skip to next set\n",
        "## how to know where next set is? hmm\n",
        "\n",
        "# get total 30 tables"
      ]
    },
    {
      "cell_type": "markdown",
      "id": "ec5a7cb1",
      "metadata": {
        "id": "ec5a7cb1"
      },
      "source": [
        "### Method 5: Display every page in jupyter or sth condensed -> take a quick look\n",
        "E.g. display each image in a thumbnail -> user manually pick -> manually pick and it will filter automatically"
      ]
    },
    {
      "cell_type": "markdown",
      "id": "a4ab4115",
      "metadata": {
        "id": "a4ab4115"
      },
      "source": [
        "### Method 6: Using pre-trained deep learning model: YOLO"
      ]
    },
    {
      "cell_type": "markdown",
      "id": "9b0c891b",
      "metadata": {
        "id": "9b0c891b"
      },
      "source": [
        "## Step 3) Filter to get only pages with wanted tables"
      ]
    },
    {
      "cell_type": "markdown",
      "id": "bf455696",
      "metadata": {
        "id": "bf455696"
      },
      "source": [
        "#### go into this step assuming already have list of images that FOR SURE have tables -> expected output should be > 30 tables"
      ]
    },
    {
      "cell_type": "code",
      "execution_count": null,
      "id": "763574de",
      "metadata": {
        "id": "763574de",
        "outputId": "4bc39c28-3943-4925-f19c-dc7b438a68a6"
      },
      "outputs": [
        {
          "data": {
            "text/plain": [
              "['Data/P00296_B014.pdf-page10.jpg',\n",
              " 'Data/P00296_B014.pdf-page11.jpg',\n",
              " 'Data/P00296_B014.pdf-page12.jpg',\n",
              " 'Data/P00296_B014.pdf-page13.jpg',\n",
              " 'Data/P00296_B014.pdf-page14.jpg',\n",
              " 'Data/P00296_B014.pdf-page15.jpg',\n",
              " 'Data/P00296_B014.pdf-page16.jpg',\n",
              " 'Data/P00296_B014.pdf-page17.jpg',\n",
              " 'Data/P00296_B014.pdf-page24.jpg',\n",
              " 'Data/P00296_B014.pdf-page25.jpg',\n",
              " 'Data/P00296_B014.pdf-page26.jpg',\n",
              " 'Data/P00296_B014.pdf-page27.jpg',\n",
              " 'Data/P00296_B014.pdf-page28.jpg',\n",
              " 'Data/P00296_B014.pdf-page29.jpg',\n",
              " 'Data/P00296_B014.pdf-page30.jpg',\n",
              " 'Data/P00296_B014.pdf-page31.jpg',\n",
              " 'Data/P00296_B014.pdf-page32.jpg',\n",
              " 'Data/P00296_B014.pdf-page33.jpg',\n",
              " 'Data/P00296_B014.pdf-page34.jpg',\n",
              " 'Data/P00296_B014.pdf-page35.jpg',\n",
              " 'Data/P00296_B014.pdf-page36.jpg',\n",
              " 'Data/P00296_B014.pdf-page37.jpg',\n",
              " 'Data/P00296_B014.pdf-page38.jpg',\n",
              " 'Data/P00296_B014.pdf-page39.jpg',\n",
              " 'Data/P00296_B014.pdf-page40.jpg',\n",
              " 'Data/P00296_B014.pdf-page41.jpg']"
            ]
          },
          "execution_count": 94,
          "metadata": {},
          "output_type": "execute_result"
        }
      ],
      "source": [
        "pages_with_any_table = [10, 11,12,13, 14,15,16,17, 24,25,26,27,28,29, 30,31,32,33,34,35, 36,37,38,39,40,41]\n",
        "\n",
        "any_table_paths = list(map(make_path, pages_with_any_table))\n",
        "any_table_paths"
      ]
    },
    {
      "cell_type": "markdown",
      "id": "05bd106d",
      "metadata": {
        "id": "05bd106d"
      },
      "source": [
        "#### this is an example of a page with a table, but not the kind we want"
      ]
    },
    {
      "cell_type": "markdown",
      "id": "c5c70cd0",
      "metadata": {
        "id": "c5c70cd0"
      },
      "source": [
        "need to get rid of 10,14,24,30,36 -- they're all formatted the below way"
      ]
    },
    {
      "cell_type": "markdown",
      "id": "d760f1d0",
      "metadata": {
        "id": "d760f1d0"
      },
      "source": [
        "### To approach this problem, can either a) filter IN wanted pdfs (with 'test phase' on it), or b) filter OUT uwanted pdfs (in this case, with 'well test data printout' on it)\n",
        "\n",
        "we will be using the a) filtering IN wanted pdfs because doing b) filtering out will need a different condition for each different pdf; each pdf has excess tables with different indicators"
      ]
    },
    {
      "cell_type": "markdown",
      "id": "2d35e768",
      "metadata": {
        "id": "2d35e768"
      },
      "source": [
        "### Method 1: Regex"
      ]
    },
    {
      "cell_type": "code",
      "execution_count": null,
      "id": "4cb0ac17",
      "metadata": {
        "id": "4cb0ac17"
      },
      "outputs": [],
      "source": [
        "pattern = \"\\\\s*TEST PHASE\\\\s:*\"\n"
      ]
    },
    {
      "cell_type": "markdown",
      "id": "fe53cf8d",
      "metadata": {
        "id": "fe53cf8d"
      },
      "source": [
        "### Method 2: OCR"
      ]
    },
    {
      "cell_type": "code",
      "execution_count": null,
      "id": "3ec89bc0",
      "metadata": {
        "id": "3ec89bc0"
      },
      "outputs": [],
      "source": [
        "def detect_text_in_image(image_path):\n",
        "    img = Image.open(image_path)\n",
        "    text = pytesseract.image_to_string(img)\n",
        "    if \"TEST PHASE\" in text:\n",
        "        return True\n",
        "    else:\n",
        "        return False"
      ]
    },
    {
      "cell_type": "code",
      "execution_count": null,
      "id": "8d1f36c2",
      "metadata": {
        "id": "8d1f36c2",
        "outputId": "c105079f-a38b-4a68-dcfc-fc79d5230aad"
      },
      "outputs": [
        {
          "name": "stdout",
          "output_type": "stream",
          "text": [
            "False True False\n"
          ]
        }
      ],
      "source": [
        "expected_no = detect_text_in_image('Data/P00296_B014.pdf-page10.jpg')\n",
        "\n",
        "expected_yes_easy = detect_text_in_image('Data/P00296_B014.pdf-page11.jpg')\n",
        "expected_yes_hard = detect_text_in_image('Data/P00296_B014.pdf-page38.jpg')\n",
        "print(expected_no, expected_yes_easy, expected_yes_hard)"
      ]
    },
    {
      "cell_type": "markdown",
      "id": "e6e2e5e3",
      "metadata": {
        "id": "e6e2e5e3"
      },
      "source": [
        "seen above: simple OCR where immediately image_to_string works for no cases, but only for EASY yes cases (high quality, no smudges)"
      ]
    },
    {
      "cell_type": "code",
      "execution_count": null,
      "id": "3b11bc4c",
      "metadata": {
        "id": "3b11bc4c",
        "outputId": "3d1fc1e5-859a-4609-c3c8-a705dc63e8eb"
      },
      "outputs": [
        {
          "name": "stdout",
          "output_type": "stream",
          "text": [
            "[[21  0]\n",
            " [ 7 14]]\n",
            "              precision    recall  f1-score   support\n",
            "\n",
            "           0       0.75      1.00      0.86        21\n",
            "           1       1.00      0.67      0.80        21\n",
            "\n",
            "    accuracy                           0.83        42\n",
            "   macro avg       0.88      0.83      0.83        42\n",
            "weighted avg       0.88      0.83      0.83        42\n",
            "\n"
          ]
        }
      ],
      "source": [
        "y_pred_useful_ocr = list(map(detect_text_in_image, all_paths))\n",
        "print(confusion_matrix(y_test_useful_table, y_pred_useful_ocr))\n",
        "print(classification_report(y_test_useful_table,y_pred_useful_ocr))"
      ]
    },
    {
      "cell_type": "markdown",
      "id": "2efb5bf2",
      "metadata": {
        "id": "2efb5bf2"
      },
      "source": [
        "### Method 3: Template Matching"
      ]
    },
    {
      "cell_type": "code",
      "execution_count": null,
      "id": "98f7569c",
      "metadata": {
        "id": "98f7569c"
      },
      "outputs": [],
      "source": [
        "def template_matching(image_path, template_path='Data/P00296_B014.pdf-page11.jpg', threshold=0.1):\n",
        "    target_image = cv2.imread(image_path)\n",
        "    template = cv2.imread(template_path)\n",
        "\n",
        "    # Ensure the template image is smaller or equal to the target image\n",
        "    target_height, target_width = target_image.shape[:2]\n",
        "    template = cv2.resize(template, (target_width, target_height))\n",
        "\n",
        "    target_gray = cv2.cvtColor(target_image, cv2.COLOR_BGR2GRAY)\n",
        "    template_gray = cv2.cvtColor(template, cv2.COLOR_BGR2GRAY)\n",
        "\n",
        "    result = cv2.matchTemplate(target_gray, template_gray, cv2.TM_CCOEFF_NORMED)\n",
        "\n",
        "    # Finding the maximum match value and its location\n",
        "    min_val, max_val, min_loc, max_loc = cv2.minMaxLoc(result)\n",
        "\n",
        "    if max_val >= threshold:\n",
        "        return True\n",
        "    else:\n",
        "        return False"
      ]
    },
    {
      "cell_type": "code",
      "execution_count": null,
      "id": "bf6a2459",
      "metadata": {
        "id": "bf6a2459",
        "outputId": "b3a6dba3-a037-416d-afa2-fa967fb97d63"
      },
      "outputs": [
        {
          "name": "stdout",
          "output_type": "stream",
          "text": [
            "False True True\n"
          ]
        }
      ],
      "source": [
        "template = 'Data/P00296_B014.pdf-page11.jpg'\n",
        "\n",
        "expected_no = template_matching('Data/P00296_B014.pdf-page10.jpg', template, threshold=0.1)\n",
        "expected_yes_easy = template_matching('Data/P00296_B014.pdf-page12.jpg', template, threshold=0.1)\n",
        "expected_yes_easy = template_matching('Data/P00296_B014.pdf-page38.jpg', template, threshold=0.1)\n",
        "print(expected_no, expected_yes_easy, expected_yes_easy)"
      ]
    },
    {
      "cell_type": "code",
      "execution_count": null,
      "id": "5ea198b3",
      "metadata": {
        "id": "5ea198b3",
        "outputId": "f6d9828f-987e-4933-8418-299f2df3677d"
      },
      "outputs": [
        {
          "name": "stdout",
          "output_type": "stream",
          "text": [
            "[[ 4 17]\n",
            " [ 2 19]]\n",
            "              precision    recall  f1-score   support\n",
            "\n",
            "           0       0.67      0.19      0.30        21\n",
            "           1       0.53      0.90      0.67        21\n",
            "\n",
            "    accuracy                           0.55        42\n",
            "   macro avg       0.60      0.55      0.48        42\n",
            "weighted avg       0.60      0.55      0.48        42\n",
            "\n"
          ]
        }
      ],
      "source": [
        "y_pred_useful_tm = list(map(template_matching, all_paths))\n",
        "print(confusion_matrix(y_test_useful_table, y_pred_useful_tm))\n",
        "print(classification_report(y_test_useful_table,y_pred_useful_tm))"
      ]
    },
    {
      "cell_type": "markdown",
      "id": "d2690d60",
      "metadata": {
        "id": "d2690d60"
      },
      "source": [
        "seen above: even the easy yes only become yes with a fairly threshold of 0.4 -- low because only similarity is 'test phase' and header names, all the numbers in the table are different"
      ]
    },
    {
      "cell_type": "markdown",
      "id": "da5616a9",
      "metadata": {
        "id": "da5616a9"
      },
      "source": [
        "### Method 4: Manual Pattern Matching"
      ]
    },
    {
      "cell_type": "markdown",
      "id": "37b34aff",
      "metadata": {
        "id": "37b34aff"
      },
      "source": [
        "in this case, see that the unwanted pages are always the first number in each set (e.g. page 10 in 10,11,12,13) = can just get rid of the smallest number in each consecutive set"
      ]
    },
    {
      "cell_type": "code",
      "execution_count": null,
      "id": "143d0378",
      "metadata": {
        "id": "143d0378"
      },
      "outputs": [],
      "source": [
        "# separate list into sets where each set is consecutive numbers\n",
        "# then get rid of the first number in each set"
      ]
    },
    {
      "cell_type": "markdown",
      "id": "e078b819",
      "metadata": {
        "id": "e078b819"
      },
      "source": [
        "#### we now have filtered the list down to only pages that have tables that have 'TEST PHASE' on it"
      ]
    },
    {
      "cell_type": "code",
      "execution_count": null,
      "id": "33978c3f",
      "metadata": {
        "id": "33978c3f",
        "outputId": "fe97605e-3eac-424c-b56d-7a25bfa05052"
      },
      "outputs": [
        {
          "data": {
            "text/plain": [
              "['Data/P00296_B014.pdf-page11.jpg',\n",
              " 'Data/P00296_B014.pdf-page12.jpg',\n",
              " 'Data/P00296_B014.pdf-page13.jpg',\n",
              " 'Data/P00296_B014.pdf-page15.jpg',\n",
              " 'Data/P00296_B014.pdf-page16.jpg',\n",
              " 'Data/P00296_B014.pdf-page17.jpg',\n",
              " 'Data/P00296_B014.pdf-page25.jpg',\n",
              " 'Data/P00296_B014.pdf-page26.jpg',\n",
              " 'Data/P00296_B014.pdf-page27.jpg',\n",
              " 'Data/P00296_B014.pdf-page28.jpg',\n",
              " 'Data/P00296_B014.pdf-page29.jpg',\n",
              " 'Data/P00296_B014.pdf-page31.jpg',\n",
              " 'Data/P00296_B014.pdf-page32.jpg',\n",
              " 'Data/P00296_B014.pdf-page33.jpg',\n",
              " 'Data/P00296_B014.pdf-page34.jpg',\n",
              " 'Data/P00296_B014.pdf-page35.jpg',\n",
              " 'Data/P00296_B014.pdf-page37.jpg',\n",
              " 'Data/P00296_B014.pdf-page38.jpg',\n",
              " 'Data/P00296_B014.pdf-page39.jpg',\n",
              " 'Data/P00296_B014.pdf-page40.jpg',\n",
              " 'Data/P00296_B014.pdf-page41.jpg']"
            ]
          },
          "execution_count": 16,
          "metadata": {},
          "output_type": "execute_result"
        }
      ],
      "source": [
        "pages_with_wanted_tables = [11,12,13, 15,16,17, 25,26,27,28,29, 31,32,33,34,35, 37,38,39,40,41]\n",
        "\n",
        "wanted_table_paths = list(map(make_path, pages_with_wanted_tables))\n",
        "wanted_table_paths"
      ]
    },
    {
      "cell_type": "markdown",
      "id": "caa981c5",
      "metadata": {
        "id": "caa981c5"
      },
      "source": [
        "## Now, use this list of page paths in Preprocess + OCR next stage"
      ]
    }
  ],
  "metadata": {
    "kernelspec": {
      "display_name": "Python 3 (ipykernel)",
      "language": "python",
      "name": "python3"
    },
    "language_info": {
      "codemirror_mode": {
        "name": "ipython",
        "version": 3
      },
      "file_extension": ".py",
      "mimetype": "text/x-python",
      "name": "python",
      "nbconvert_exporter": "python",
      "pygments_lexer": "ipython3",
      "version": "3.11.5"
    },
    "colab": {
      "provenance": []
    }
  },
  "nbformat": 4,
  "nbformat_minor": 5
}