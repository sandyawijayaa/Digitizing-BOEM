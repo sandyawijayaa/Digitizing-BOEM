{
  "nbformat": 4,
  "nbformat_minor": 0,
  "metadata": {
    "colab": {
      "provenance": []
    },
    "kernelspec": {
      "name": "python3",
      "display_name": "Python 3"
    },
    "language_info": {
      "name": "python"
    }
  },
  "cells": [
    {
      "cell_type": "markdown",
      "source": [
        "## PRE-PROCESSING ACCURACY FUNCTION (USING TOKENS)"
      ],
      "metadata": {
        "id": "vCrO0AoUB7hH"
      }
    },
    {
      "cell_type": "markdown",
      "source": [
        "BW + Threshold - 24%"
      ],
      "metadata": {
        "id": "a04otyCMCzEc"
      }
    },
    {
      "cell_type": "code",
      "source": [
        "import re\n",
        "\n",
        "def accuracy_on_keywords(ocr_result):\n",
        "\n",
        "    keywords = {\"TIME\": 7, \"FIELD\": 1, \"REPORT\": 1, \"#\": 3, \"TEST\": 2, \"PHASE\": 2, \"OF\": 2, \"DAY\": 2, \"ELAPSED\": 2, \"FLOW\": 1, \"SHUTIN\": 1, \"FINAL\": 1, \"FLOW\": 1, \"PAGE\": 1, \"BOT\": 4, \"HOLE\": 4, \"he.*o\": 107}\n",
        "    keywordsFound = 0\n",
        "\n",
        "    for token in keywords.keys():\n",
        "        numOfTokenFound = len(re.findall(token, ocr_result))\n",
        "        keywordsFound += numOfTokenFound\n",
        "\n",
        "    correctSum = sum(keywords.values())\n",
        "    absDifference = abs(correctSum - keywordsFound)\n",
        "\n",
        "    accuracy = round((correctSum - absDifference) / correctSum * 100, 2)\n",
        "    print(\"\\nCORRECT SUM OF KEYWORDS: {}\\nDETECTED OCR KEYWORDS: {}\\n*******************************\\nACCURACY ON KEYWORDS: {}%\\n\".format(correctSum, keywordsFound, accuracy))"
      ],
      "metadata": {
        "id": "xbrenHVVCJ3w"
      },
      "execution_count": null,
      "outputs": []
    }
  ]
}